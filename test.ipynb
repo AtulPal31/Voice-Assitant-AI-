{
 "cells": [
  {
   "cell_type": "code",
   "execution_count": 25,
   "id": "eabb2c39",
   "metadata": {},
   "outputs": [
    {
     "name": "stdout",
     "output_type": "stream",
     "text": [
      "Note: you may need to restart the kernel to use updated packages.\n"
     ]
    }
   ],
   "source": [
    "%pip install openai speechrecognition pyttsx3 pyaudio --quiet"
   ]
  },
  {
   "cell_type": "code",
   "execution_count": 20,
   "id": "e99a430a",
   "metadata": {},
   "outputs": [
    {
     "name": "stdout",
     "output_type": "stream",
     "text": [
      "API key set successfully!\n"
     ]
    }
   ],
   "source": [
    "import getpass\n",
    "import openai\n",
    "\n",
    "openai.api_key = getpass.getpass(\"🔐 Enter your OpenAI API Key: \")\n",
    "print(\"API key set successfully!\")"
   ]
  },
  {
   "cell_type": "code",
   "execution_count": null,
   "id": "2ac22a91",
   "metadata": {},
   "outputs": [],
   "source": [
    "# Voice Input, GPT Reply, Voice Output\n",
    "import speech_recognition as sr\n",
    "import pyttsx3\n",
    "\n",
    "# Initialize recognizer and voice engine\n",
    "recognizer = sr.Recognizer()\n",
    "engine = pyttsx3.init()\n",
    "\n",
    "def listen():\n",
    "    with sr.Microphone() as source:\n",
    "        print(\"🎙️ Speak now...\")\n",
    "        engine.say(\"Speak now.\")\n",
    "        engine.runAndWait()\n",
    "\n",
    "        try:\n",
    "            audio = recognizer.listen(source, timeout=15)\n",
    "        except sr.WaitTimeoutError:\n",
    "            reminder_text = \"I'm still listening. Please say something.\"\n",
    "            print(\"🔔 Reminder: \" + reminder_text)\n",
    "            engine.say(reminder_text)\n",
    "            engine.runAndWait()\n",
    "            return \"\"  \n",
    "\n",
    "    try:\n",
    "        text = recognizer.recognize_google(audio)\n",
    "        print(f\"🗣️ You said: {text}\")\n",
    "        return text\n",
    "    except sr.UnknownValueError:\n",
    "        print(\"❌ Sorry, could not understand the audio.\")\n",
    "        return \"\"\n",
    "    except Exception as e:\n",
    "        print(\"❌ Error:\", e)\n",
    "        return \"\"\n",
    "\n",
    "\n",
    "def ask_gpt(prompt):\n",
    "    try:\n",
    "        response = openai.ChatCompletion.create(\n",
    "            model=\"gpt-4o-mini-2024-07-18\",  \n",
    "            messages=[{\"role\": \"user\", \"content\": prompt}]\n",
    "        )\n",
    "        answer = response[\"choices\"][0][\"message\"][\"content\"]\n",
    "        print(f\"🤖 GPT: {answer}\")\n",
    "        return answer\n",
    "    except Exception as e:\n",
    "        print(\"❌ GPT error:\", e)\n",
    "        return \"\"\n",
    "\n",
    "def speak(text):\n",
    "    engine.say(text)\n",
    "    engine.runAndWait()\n"
   ]
  },
  {
   "cell_type": "code",
   "execution_count": null,
   "id": "5e210fa4",
   "metadata": {},
   "outputs": [],
   "source": [
    "import csv\n",
    "from datetime import datetime\n",
    "\n",
    "# File path to store the conversation\n",
    "log_file = \"voice_chat_log.csv\"\n",
    "\n",
    "# Created CSV file with headers if not already created\n",
    "def init_log():\n",
    "    try:\n",
    "        with open(log_file, \"x\", newline='') as file:\n",
    "            writer = csv.writer(file)\n",
    "            writer.writerow([\"Timestamp\", \"User Input\", \"GPT Response\"])\n",
    "            print(\"📝 Log file created.\")\n",
    "    except FileExistsError:\n",
    "        print(\"📄 Log file already exists. Appending data.\")\n",
    "\n",
    "# Append a row for each interaction\n",
    "def log_to_csv(user_text, gpt_reply):\n",
    "    with open(log_file, \"a\", newline='') as file:\n",
    "        writer = csv.writer(file)\n",
    "        writer.writerow([datetime.now().isoformat(), user_text, gpt_reply])\n",
    "        print(\"✅ Interaction logged.\")\n"
   ]
  },
  {
   "cell_type": "code",
   "execution_count": null,
   "id": "76e489f3",
   "metadata": {},
   "outputs": [],
   "source": [
    "# Initialize log file\n",
    "init_log()\n",
    "\n",
    "# Main conversation loop\n",
    "print(\"🔁 Start speaking! Say 'exit', 'quit', or 'stop' to end.\")\n",
    "\n",
    "while True:\n",
    "    user_input = listen()\n",
    "\n",
    "    if user_input.lower() in [\"exit\", \"quit\", \"stop\"]:\n",
    "        goodbye_text = \"Exiting the voice assistant. Goodbye!\"\n",
    "        print(\"👋\", goodbye_text)\n",
    "        speak(goodbye_text)\n",
    "        break\n",
    "\n",
    "    if user_input:\n",
    "        gpt_reply = ask_gpt(user_input)\n",
    "        speak(gpt_reply)\n",
    "        log_to_csv(user_input, gpt_reply)\n"
   ]
  }
 ],
 "metadata": {
  "kernelspec": {
   "display_name": "Python 3",
   "language": "python",
   "name": "python3"
  },
  "language_info": {
   "codemirror_mode": {
    "name": "ipython",
    "version": 3
   },
   "file_extension": ".py",
   "mimetype": "text/x-python",
   "name": "python",
   "nbconvert_exporter": "python",
   "pygments_lexer": "ipython3",
   "version": "3.10.2"
  }
 },
 "nbformat": 4,
 "nbformat_minor": 5
}
